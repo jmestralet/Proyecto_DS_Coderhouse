{
  "nbformat": 4,
  "nbformat_minor": 0,
  "metadata": {
    "colab": {
      "provenance": [],
      "authorship_tag": "ABX9TyPoXCmbNvxMG0C7p+5D9j6c",
      "include_colab_link": true
    },
    "kernelspec": {
      "name": "python3",
      "display_name": "Python 3"
    },
    "language_info": {
      "name": "python"
    }
  },
  "cells": [
    {
      "cell_type": "markdown",
      "metadata": {
        "id": "view-in-github",
        "colab_type": "text"
      },
      "source": [
        "<a href=\"https://colab.research.google.com/github/jmestralet/Proyecto_DS_Coderhouse/blob/main/Proyecto.ipynb\" target=\"_parent\"><img src=\"https://colab.research.google.com/assets/colab-badge.svg\" alt=\"Open In Colab\"/></a>"
      ]
    },
    {
      "cell_type": "markdown",
      "source": [
        "# Introducción al dataset elegido\n",
        "\n",
        "El presente trabajo, parte de un dataset de clientes de un comercio, disponible en la Web.\n",
        "\n",
        "Este incluye datos respecto a: aspectos demograficos del cliente, comportamiento de compra,satisfacción respecto al servicio, relacion actual con la empresa, datos geográficos de los puntos de venta, entre otros.\n",
        "\n",
        "## Listado de columnas y significado:\n",
        "\n",
        "*  ID de cliente:\tIdentificador único para cada cliente.\n",
        "*  Edad:\tedad del cliente\n",
        "* Género\tEl género del cliente (Hombre, Mujer, Otro).\n",
        "* Tipo de cuenta\tTipo de cuenta (Corriente, Ahorro, Inversión).\n",
        "* Saldo de la cuenta\tEl saldo en la cuenta del cliente, indica estabilidad financiera.\n",
        "* Fecha de transacción\tFecha de la última transacción realizada por el cliente.\n",
        "* Monto de la transacción\tImporte de la última transacción, indicando el compromiso del cliente.\n",
        "* Tipo de transacción\tTipo de la última transacción (Depósito, Retiro, etc.).\n",
        "* Rama\tUbicación de la sucursal donde se encuentra la cuenta.\n",
        "* Monto del préstamo\tImporte de cualquier préstamo obtenido por el cliente.\n",
        "* Puntuación crediticia\tLa puntuación crediticia del cliente, que indica su salud financiera.\n",
        "* Está_empleado\tSi el cliente está empleado (Verdadero/Falso).\n",
        "* Ingresos anuales\tEl ingreso anual total del cliente.\n",
        "* Estado civil\tEl estado civil del cliente (soltero, casado, etc.).\n",
        "* Sucursal:\tLa región geográfica del cliente.\n",
        "* Fecha de apertura de la cuenta\tLa fecha en que se abrió la cuenta del cliente.\n",
        "* Fecha de la última transacción\tFecha de la más reciente transacción realizada por el cliente.\n",
        "* Número_de_transacciones\tNúmero total de transacciones en el último año.\n",
        "* Tendencia de actividad de la cuenta\tSi la actividad de la cuenta está aumentando, disminuyendo o es estable.\n",
        "* Interacciones de servicio al cliente\tNúmero de interacciones con el servicio de atención al cliente que posiblemente indiquen insatisfacción.\n",
        "*Quejas recientes\tNúmero de quejas realizadas por el cliente, que potencialmente indican insatisfacción.\n",
        "* Cambio en el saldo de la cuenta\tCambio en el saldo de la cuenta a lo largo del tiempo, lo que indica estabilidad o dificultad financiera.\n",
        "* Puntuación de satisfacción del cliente\tCalificación de satisfacción del cliente (1-5), donde las puntuaciones más bajas indican un mayor riesgo de abandono.\n",
        "* Etiqueta de abandono\tIndica si el cliente ha abandonado el servicio (1) o no (0).\n",
        "* Periodo de tiempo de abandono\tSi se agita, el número de meses hace que ocurrió.\n",
        "\n",
        "Fuente del dataset: https://www.kaggle.com/datasets/simronw/churn-prediction-unlocking-retention-secrets\n",
        "\n",
        "## Objetivo del proyecto:\n",
        "Partiendo de los datos anteriores, se busca encontrar caracteristicas y/o patrones que permitan identificar clientes con alta propabilidad de fugarse.\n"
      ],
      "metadata": {
        "id": "1WYChsB1eN51"
      }
    },
    {
      "cell_type": "markdown",
      "source": [
        "#Importación de librerías\n",
        "Se importan todas las librerías que serán utilizadas en el proyecto"
      ],
      "metadata": {
        "id": "cnji6ePcfno0"
      }
    },
    {
      "cell_type": "code",
      "source": [
        "import pandas as pd\n",
        "import numpy as np\n",
        "import matplotlib.pyplot as plt\n",
        "import seaborn as sns\n",
        "from datetime import datetime\n",
        "import warnings\n",
        "\n",
        "# Ignorar todos los warnings\n",
        "warnings.filterwarnings('ignore')"
      ],
      "metadata": {
        "id": "fH29HKZbR3HQ"
      },
      "execution_count": 157,
      "outputs": []
    },
    {
      "cell_type": "markdown",
      "source": [
        "## Carga  del dataset y primeras transformaciones\n",
        "El dataset se encuentra en formato csv, por lo que se carga de la siguiente forma."
      ],
      "metadata": {
        "id": "nRCuJjh-jbtT"
      }
    },
    {
      "cell_type": "code",
      "source": [
        "df = pd.read_csv('Abandono_de_clientes.csv', sep=';')"
      ],
      "metadata": {
        "id": "dHzG5zt4R7hy"
      },
      "execution_count": 158,
      "outputs": []
    },
    {
      "cell_type": "markdown",
      "source": [
        "Antes de comenzar a explorar los datos, se traducen los nomnbres de las columnas a Español:"
      ],
      "metadata": {
        "id": "9xLAnhc-j5B0"
      }
    },
    {
      "cell_type": "code",
      "source": [
        "print('Columnas:')\n",
        "df.columns\n"
      ],
      "metadata": {
        "colab": {
          "base_uri": "https://localhost:8080/"
        },
        "id": "g9El7Tpwj1-2",
        "outputId": "8b73eae7-3cd5-4593-c7ef-3dfe0c73fc87"
      },
      "execution_count": 159,
      "outputs": [
        {
          "output_type": "stream",
          "name": "stdout",
          "text": [
            "Columnas:\n"
          ]
        },
        {
          "output_type": "execute_result",
          "data": {
            "text/plain": [
              "Index(['Customer_ID', 'Age', 'Gender', 'Account_Type', 'Account_Balance',\n",
              "       'Transaction_Date', 'Transaction_Amount', 'Transaction_Type', 'Branch',\n",
              "       'Loan_Amount', 'Loan_Type', 'Credit_Score', 'Is_Employed',\n",
              "       'Annual_Income', 'Marital_Status', 'Region', 'Account_Open_Date',\n",
              "       'Last_Transaction_Date', 'Number_of_Transactions',\n",
              "       'Account_Activity_Trend', 'Customer_Service_Interactions',\n",
              "       'Recent_Complaints', 'Change_in_Account_Balance',\n",
              "       'Customer_Satisfaction_Score', 'Churn_Label', 'Churn_Timeframe'],\n",
              "      dtype='object')"
            ]
          },
          "metadata": {},
          "execution_count": 159
        }
      ]
    },
    {
      "cell_type": "code",
      "source": [
        "df=df.rename(columns={'Customer_ID':'Cliente_ID',\n",
        "                      'Age':'Edad',\n",
        "                      'Gender':'Genero',\n",
        "                      'Account_Type':'Tipo de cuenta',\n",
        "                      'Account_Balance':'Saldo de cuenta',\n",
        "                      'Transaction_Date':'Fecha de transaccion',\n",
        "                      'Transaction_Amount':'Monto de transaccion',\n",
        "                      'Transaction_Type':'Tipo de transaccion',\n",
        "                      'Branch':'Rama',\n",
        "                      'Loan_Amount':'Monto de prestamo',\n",
        "                      'Loan_Type':'Tipo de prestamo',\n",
        "                      'Credit_Score':'Score crediticio',\n",
        "                      'Is_Employed':'Es empleado',\n",
        "                      'Annual_Income':'Ingreso anual',\n",
        "                      'Marital_Status':'Estado Civil',\n",
        "                      'Account_Open_Date':'Fecha de apertura de cuenta',\n",
        "                      'Last_Transaction_Date':'Fecha de ultima transaccion',\n",
        "                      'Number_of_Transactions':'Numero de transacciones',\n",
        "                      'Account_Activity_Trend':'Tendencia de actividad en cuenta',\n",
        "                      'Customer_Service_Interactions':'Interacciones de servicio al cliente',\n",
        "                      'Recent_Complaints':'Quejas recientes',\n",
        "                      'Change_in_Account_Balance':'Cambio en saldo de cuenta',\n",
        "                      'Customer_Satisfaction_Score':'Puntuación de satisfacción del cliente',\n",
        "                      'Churn_Label':'Etiqueta de abandono',\n",
        "                      'Churn_Timeframe':'Periodo de tiempo de abandono (meses)'})\n",
        "print('Columnas renombradas:')\n",
        "df.columns"
      ],
      "metadata": {
        "colab": {
          "base_uri": "https://localhost:8080/"
        },
        "id": "J5FqvPZkj-9N",
        "outputId": "3fd1dd42-e64c-4c8f-ae9c-3d0f2054eefd"
      },
      "execution_count": 160,
      "outputs": [
        {
          "output_type": "stream",
          "name": "stdout",
          "text": [
            "Columnas renombradas:\n"
          ]
        },
        {
          "output_type": "execute_result",
          "data": {
            "text/plain": [
              "Index(['Cliente_ID', 'Edad', 'Genero', 'Tipo de cuenta', 'Saldo de cuenta',\n",
              "       'Fecha de transaccion', 'Monto de transaccion', 'Tipo de transaccion',\n",
              "       'Rama', 'Monto de prestamo', 'Tipo de prestamo', 'Score crediticio',\n",
              "       'Es empleado', 'Ingreso anual', 'Estado Civil', 'Region',\n",
              "       'Fecha de apertura de cuenta', 'Fecha de ultima transaccion',\n",
              "       'Numero de transacciones', 'Tendencia de actividad en cuenta',\n",
              "       'Interacciones de servicio al cliente', 'Quejas recientes',\n",
              "       'Cambio en saldo de cuenta', 'Puntuación de satisfacción del cliente',\n",
              "       'Etiqueta de abandono', 'Periodo de tiempo de abandono (meses)'],\n",
              "      dtype='object')"
            ]
          },
          "metadata": {},
          "execution_count": 160
        }
      ]
    },
    {
      "cell_type": "markdown",
      "source": [
        "Se observan algunos registros y columnas para observar la composición de la tabla"
      ],
      "metadata": {
        "id": "HIvgGnUej5wY"
      }
    },
    {
      "cell_type": "code",
      "source": [
        "print('Primeros 4 registros:')\n",
        "df.head(4)"
      ],
      "metadata": {
        "colab": {
          "base_uri": "https://localhost:8080/",
          "height": 537
        },
        "id": "3wiT1SufR0vx",
        "outputId": "f552f80c-56ee-434d-e53b-3d827e764c1b"
      },
      "execution_count": 161,
      "outputs": [
        {
          "output_type": "stream",
          "name": "stdout",
          "text": [
            "Primeros 4 registros:\n"
          ]
        },
        {
          "output_type": "execute_result",
          "data": {
            "text/plain": [
              "                             Cliente_ID  Edad  Genero Tipo de cuenta  \\\n",
              "0  8f0b813f-971a-45c8-8347-48a0d5cd3f2e    50  Female        Savings   \n",
              "1  ec299825-6aa6-47f3-bfc0-0b65d3d4b1e3    69  Female       Checking   \n",
              "2  3f992fba-cd14-417e-b5d9-55173b985bef    38  Female       Checking   \n",
              "3  be551680-156f-4f47-b283-192bbcb80571    57    Male        Savings   \n",
              "\n",
              "   Saldo de cuenta Fecha de transaccion  Monto de transaccion  \\\n",
              "0         26046.21            14/2/2025               4819.48   \n",
              "1         27415.23            26/2/2025               3072.79   \n",
              "2         86709.64            26/3/2025               1423.93   \n",
              "3         56826.79            25/2/2025               3929.43   \n",
              "\n",
              "  Tipo de transaccion          Rama  Monto de prestamo  ...  \\\n",
              "0             Payment   Freemanview            1063.29  ...   \n",
              "1             Deposit   Floresmouth           35493.90  ...   \n",
              "2             Deposit  West Francis               0.00  ...   \n",
              "3             Deposit      Diazport           41939.84  ...   \n",
              "\n",
              "  Fecha de apertura de cuenta  Fecha de ultima transaccion  \\\n",
              "0                   26/8/2022                    24/3/2025   \n",
              "1                   18/6/2024                     2/3/2025   \n",
              "2                   17/8/2020                    13/3/2025   \n",
              "3                   15/9/2023                    26/3/2025   \n",
              "\n",
              "   Numero de transacciones  Tendencia de actividad en cuenta  \\\n",
              "0                        8                        Increasing   \n",
              "1                        4                            Stable   \n",
              "2                        2                        Increasing   \n",
              "3                       18                            Stable   \n",
              "\n",
              "  Interacciones de servicio al cliente Quejas recientes  \\\n",
              "0                                    1                2   \n",
              "1                                    1                0   \n",
              "2                                    4                0   \n",
              "3                                    0                2   \n",
              "\n",
              "  Cambio en saldo de cuenta Puntuación de satisfacción del cliente  \\\n",
              "0                  -1024.51                                      1   \n",
              "1                  -2900.10                                      3   \n",
              "2                  -2600.01                                      1   \n",
              "3                    154.73                                      1   \n",
              "\n",
              "   Etiqueta de abandono Periodo de tiempo de abandono (meses)  \n",
              "0                     1                                     1  \n",
              "1                     0                                     0  \n",
              "2                     0                                     0  \n",
              "3                     1                                    11  \n",
              "\n",
              "[4 rows x 26 columns]"
            ],
            "text/html": [
              "\n",
              "  <div id=\"df-bf8efc0b-a3aa-45eb-9e5a-62c845b5c8b1\" class=\"colab-df-container\">\n",
              "    <div>\n",
              "<style scoped>\n",
              "    .dataframe tbody tr th:only-of-type {\n",
              "        vertical-align: middle;\n",
              "    }\n",
              "\n",
              "    .dataframe tbody tr th {\n",
              "        vertical-align: top;\n",
              "    }\n",
              "\n",
              "    .dataframe thead th {\n",
              "        text-align: right;\n",
              "    }\n",
              "</style>\n",
              "<table border=\"1\" class=\"dataframe\">\n",
              "  <thead>\n",
              "    <tr style=\"text-align: right;\">\n",
              "      <th></th>\n",
              "      <th>Cliente_ID</th>\n",
              "      <th>Edad</th>\n",
              "      <th>Genero</th>\n",
              "      <th>Tipo de cuenta</th>\n",
              "      <th>Saldo de cuenta</th>\n",
              "      <th>Fecha de transaccion</th>\n",
              "      <th>Monto de transaccion</th>\n",
              "      <th>Tipo de transaccion</th>\n",
              "      <th>Rama</th>\n",
              "      <th>Monto de prestamo</th>\n",
              "      <th>...</th>\n",
              "      <th>Fecha de apertura de cuenta</th>\n",
              "      <th>Fecha de ultima transaccion</th>\n",
              "      <th>Numero de transacciones</th>\n",
              "      <th>Tendencia de actividad en cuenta</th>\n",
              "      <th>Interacciones de servicio al cliente</th>\n",
              "      <th>Quejas recientes</th>\n",
              "      <th>Cambio en saldo de cuenta</th>\n",
              "      <th>Puntuación de satisfacción del cliente</th>\n",
              "      <th>Etiqueta de abandono</th>\n",
              "      <th>Periodo de tiempo de abandono (meses)</th>\n",
              "    </tr>\n",
              "  </thead>\n",
              "  <tbody>\n",
              "    <tr>\n",
              "      <th>0</th>\n",
              "      <td>8f0b813f-971a-45c8-8347-48a0d5cd3f2e</td>\n",
              "      <td>50</td>\n",
              "      <td>Female</td>\n",
              "      <td>Savings</td>\n",
              "      <td>26046.21</td>\n",
              "      <td>14/2/2025</td>\n",
              "      <td>4819.48</td>\n",
              "      <td>Payment</td>\n",
              "      <td>Freemanview</td>\n",
              "      <td>1063.29</td>\n",
              "      <td>...</td>\n",
              "      <td>26/8/2022</td>\n",
              "      <td>24/3/2025</td>\n",
              "      <td>8</td>\n",
              "      <td>Increasing</td>\n",
              "      <td>1</td>\n",
              "      <td>2</td>\n",
              "      <td>-1024.51</td>\n",
              "      <td>1</td>\n",
              "      <td>1</td>\n",
              "      <td>1</td>\n",
              "    </tr>\n",
              "    <tr>\n",
              "      <th>1</th>\n",
              "      <td>ec299825-6aa6-47f3-bfc0-0b65d3d4b1e3</td>\n",
              "      <td>69</td>\n",
              "      <td>Female</td>\n",
              "      <td>Checking</td>\n",
              "      <td>27415.23</td>\n",
              "      <td>26/2/2025</td>\n",
              "      <td>3072.79</td>\n",
              "      <td>Deposit</td>\n",
              "      <td>Floresmouth</td>\n",
              "      <td>35493.90</td>\n",
              "      <td>...</td>\n",
              "      <td>18/6/2024</td>\n",
              "      <td>2/3/2025</td>\n",
              "      <td>4</td>\n",
              "      <td>Stable</td>\n",
              "      <td>1</td>\n",
              "      <td>0</td>\n",
              "      <td>-2900.10</td>\n",
              "      <td>3</td>\n",
              "      <td>0</td>\n",
              "      <td>0</td>\n",
              "    </tr>\n",
              "    <tr>\n",
              "      <th>2</th>\n",
              "      <td>3f992fba-cd14-417e-b5d9-55173b985bef</td>\n",
              "      <td>38</td>\n",
              "      <td>Female</td>\n",
              "      <td>Checking</td>\n",
              "      <td>86709.64</td>\n",
              "      <td>26/3/2025</td>\n",
              "      <td>1423.93</td>\n",
              "      <td>Deposit</td>\n",
              "      <td>West Francis</td>\n",
              "      <td>0.00</td>\n",
              "      <td>...</td>\n",
              "      <td>17/8/2020</td>\n",
              "      <td>13/3/2025</td>\n",
              "      <td>2</td>\n",
              "      <td>Increasing</td>\n",
              "      <td>4</td>\n",
              "      <td>0</td>\n",
              "      <td>-2600.01</td>\n",
              "      <td>1</td>\n",
              "      <td>0</td>\n",
              "      <td>0</td>\n",
              "    </tr>\n",
              "    <tr>\n",
              "      <th>3</th>\n",
              "      <td>be551680-156f-4f47-b283-192bbcb80571</td>\n",
              "      <td>57</td>\n",
              "      <td>Male</td>\n",
              "      <td>Savings</td>\n",
              "      <td>56826.79</td>\n",
              "      <td>25/2/2025</td>\n",
              "      <td>3929.43</td>\n",
              "      <td>Deposit</td>\n",
              "      <td>Diazport</td>\n",
              "      <td>41939.84</td>\n",
              "      <td>...</td>\n",
              "      <td>15/9/2023</td>\n",
              "      <td>26/3/2025</td>\n",
              "      <td>18</td>\n",
              "      <td>Stable</td>\n",
              "      <td>0</td>\n",
              "      <td>2</td>\n",
              "      <td>154.73</td>\n",
              "      <td>1</td>\n",
              "      <td>1</td>\n",
              "      <td>11</td>\n",
              "    </tr>\n",
              "  </tbody>\n",
              "</table>\n",
              "<p>4 rows × 26 columns</p>\n",
              "</div>\n",
              "    <div class=\"colab-df-buttons\">\n",
              "\n",
              "  <div class=\"colab-df-container\">\n",
              "    <button class=\"colab-df-convert\" onclick=\"convertToInteractive('df-bf8efc0b-a3aa-45eb-9e5a-62c845b5c8b1')\"\n",
              "            title=\"Convert this dataframe to an interactive table.\"\n",
              "            style=\"display:none;\">\n",
              "\n",
              "  <svg xmlns=\"http://www.w3.org/2000/svg\" height=\"24px\" viewBox=\"0 -960 960 960\">\n",
              "    <path d=\"M120-120v-720h720v720H120Zm60-500h600v-160H180v160Zm220 220h160v-160H400v160Zm0 220h160v-160H400v160ZM180-400h160v-160H180v160Zm440 0h160v-160H620v160ZM180-180h160v-160H180v160Zm440 0h160v-160H620v160Z\"/>\n",
              "  </svg>\n",
              "    </button>\n",
              "\n",
              "  <style>\n",
              "    .colab-df-container {\n",
              "      display:flex;\n",
              "      gap: 12px;\n",
              "    }\n",
              "\n",
              "    .colab-df-convert {\n",
              "      background-color: #E8F0FE;\n",
              "      border: none;\n",
              "      border-radius: 50%;\n",
              "      cursor: pointer;\n",
              "      display: none;\n",
              "      fill: #1967D2;\n",
              "      height: 32px;\n",
              "      padding: 0 0 0 0;\n",
              "      width: 32px;\n",
              "    }\n",
              "\n",
              "    .colab-df-convert:hover {\n",
              "      background-color: #E2EBFA;\n",
              "      box-shadow: 0px 1px 2px rgba(60, 64, 67, 0.3), 0px 1px 3px 1px rgba(60, 64, 67, 0.15);\n",
              "      fill: #174EA6;\n",
              "    }\n",
              "\n",
              "    .colab-df-buttons div {\n",
              "      margin-bottom: 4px;\n",
              "    }\n",
              "\n",
              "    [theme=dark] .colab-df-convert {\n",
              "      background-color: #3B4455;\n",
              "      fill: #D2E3FC;\n",
              "    }\n",
              "\n",
              "    [theme=dark] .colab-df-convert:hover {\n",
              "      background-color: #434B5C;\n",
              "      box-shadow: 0px 1px 3px 1px rgba(0, 0, 0, 0.15);\n",
              "      filter: drop-shadow(0px 1px 2px rgba(0, 0, 0, 0.3));\n",
              "      fill: #FFFFFF;\n",
              "    }\n",
              "  </style>\n",
              "\n",
              "    <script>\n",
              "      const buttonEl =\n",
              "        document.querySelector('#df-bf8efc0b-a3aa-45eb-9e5a-62c845b5c8b1 button.colab-df-convert');\n",
              "      buttonEl.style.display =\n",
              "        google.colab.kernel.accessAllowed ? 'block' : 'none';\n",
              "\n",
              "      async function convertToInteractive(key) {\n",
              "        const element = document.querySelector('#df-bf8efc0b-a3aa-45eb-9e5a-62c845b5c8b1');\n",
              "        const dataTable =\n",
              "          await google.colab.kernel.invokeFunction('convertToInteractive',\n",
              "                                                    [key], {});\n",
              "        if (!dataTable) return;\n",
              "\n",
              "        const docLinkHtml = 'Like what you see? Visit the ' +\n",
              "          '<a target=\"_blank\" href=https://colab.research.google.com/notebooks/data_table.ipynb>data table notebook</a>'\n",
              "          + ' to learn more about interactive tables.';\n",
              "        element.innerHTML = '';\n",
              "        dataTable['output_type'] = 'display_data';\n",
              "        await google.colab.output.renderOutput(dataTable, element);\n",
              "        const docLink = document.createElement('div');\n",
              "        docLink.innerHTML = docLinkHtml;\n",
              "        element.appendChild(docLink);\n",
              "      }\n",
              "    </script>\n",
              "  </div>\n",
              "\n",
              "\n",
              "    <div id=\"df-1b75aaa6-b637-45a9-918a-0fe8d1b4d5e3\">\n",
              "      <button class=\"colab-df-quickchart\" onclick=\"quickchart('df-1b75aaa6-b637-45a9-918a-0fe8d1b4d5e3')\"\n",
              "                title=\"Suggest charts\"\n",
              "                style=\"display:none;\">\n",
              "\n",
              "<svg xmlns=\"http://www.w3.org/2000/svg\" height=\"24px\"viewBox=\"0 0 24 24\"\n",
              "     width=\"24px\">\n",
              "    <g>\n",
              "        <path d=\"M19 3H5c-1.1 0-2 .9-2 2v14c0 1.1.9 2 2 2h14c1.1 0 2-.9 2-2V5c0-1.1-.9-2-2-2zM9 17H7v-7h2v7zm4 0h-2V7h2v10zm4 0h-2v-4h2v4z\"/>\n",
              "    </g>\n",
              "</svg>\n",
              "      </button>\n",
              "\n",
              "<style>\n",
              "  .colab-df-quickchart {\n",
              "      --bg-color: #E8F0FE;\n",
              "      --fill-color: #1967D2;\n",
              "      --hover-bg-color: #E2EBFA;\n",
              "      --hover-fill-color: #174EA6;\n",
              "      --disabled-fill-color: #AAA;\n",
              "      --disabled-bg-color: #DDD;\n",
              "  }\n",
              "\n",
              "  [theme=dark] .colab-df-quickchart {\n",
              "      --bg-color: #3B4455;\n",
              "      --fill-color: #D2E3FC;\n",
              "      --hover-bg-color: #434B5C;\n",
              "      --hover-fill-color: #FFFFFF;\n",
              "      --disabled-bg-color: #3B4455;\n",
              "      --disabled-fill-color: #666;\n",
              "  }\n",
              "\n",
              "  .colab-df-quickchart {\n",
              "    background-color: var(--bg-color);\n",
              "    border: none;\n",
              "    border-radius: 50%;\n",
              "    cursor: pointer;\n",
              "    display: none;\n",
              "    fill: var(--fill-color);\n",
              "    height: 32px;\n",
              "    padding: 0;\n",
              "    width: 32px;\n",
              "  }\n",
              "\n",
              "  .colab-df-quickchart:hover {\n",
              "    background-color: var(--hover-bg-color);\n",
              "    box-shadow: 0 1px 2px rgba(60, 64, 67, 0.3), 0 1px 3px 1px rgba(60, 64, 67, 0.15);\n",
              "    fill: var(--button-hover-fill-color);\n",
              "  }\n",
              "\n",
              "  .colab-df-quickchart-complete:disabled,\n",
              "  .colab-df-quickchart-complete:disabled:hover {\n",
              "    background-color: var(--disabled-bg-color);\n",
              "    fill: var(--disabled-fill-color);\n",
              "    box-shadow: none;\n",
              "  }\n",
              "\n",
              "  .colab-df-spinner {\n",
              "    border: 2px solid var(--fill-color);\n",
              "    border-color: transparent;\n",
              "    border-bottom-color: var(--fill-color);\n",
              "    animation:\n",
              "      spin 1s steps(1) infinite;\n",
              "  }\n",
              "\n",
              "  @keyframes spin {\n",
              "    0% {\n",
              "      border-color: transparent;\n",
              "      border-bottom-color: var(--fill-color);\n",
              "      border-left-color: var(--fill-color);\n",
              "    }\n",
              "    20% {\n",
              "      border-color: transparent;\n",
              "      border-left-color: var(--fill-color);\n",
              "      border-top-color: var(--fill-color);\n",
              "    }\n",
              "    30% {\n",
              "      border-color: transparent;\n",
              "      border-left-color: var(--fill-color);\n",
              "      border-top-color: var(--fill-color);\n",
              "      border-right-color: var(--fill-color);\n",
              "    }\n",
              "    40% {\n",
              "      border-color: transparent;\n",
              "      border-right-color: var(--fill-color);\n",
              "      border-top-color: var(--fill-color);\n",
              "    }\n",
              "    60% {\n",
              "      border-color: transparent;\n",
              "      border-right-color: var(--fill-color);\n",
              "    }\n",
              "    80% {\n",
              "      border-color: transparent;\n",
              "      border-right-color: var(--fill-color);\n",
              "      border-bottom-color: var(--fill-color);\n",
              "    }\n",
              "    90% {\n",
              "      border-color: transparent;\n",
              "      border-bottom-color: var(--fill-color);\n",
              "    }\n",
              "  }\n",
              "</style>\n",
              "\n",
              "      <script>\n",
              "        async function quickchart(key) {\n",
              "          const quickchartButtonEl =\n",
              "            document.querySelector('#' + key + ' button');\n",
              "          quickchartButtonEl.disabled = true;  // To prevent multiple clicks.\n",
              "          quickchartButtonEl.classList.add('colab-df-spinner');\n",
              "          try {\n",
              "            const charts = await google.colab.kernel.invokeFunction(\n",
              "                'suggestCharts', [key], {});\n",
              "          } catch (error) {\n",
              "            console.error('Error during call to suggestCharts:', error);\n",
              "          }\n",
              "          quickchartButtonEl.classList.remove('colab-df-spinner');\n",
              "          quickchartButtonEl.classList.add('colab-df-quickchart-complete');\n",
              "        }\n",
              "        (() => {\n",
              "          let quickchartButtonEl =\n",
              "            document.querySelector('#df-1b75aaa6-b637-45a9-918a-0fe8d1b4d5e3 button');\n",
              "          quickchartButtonEl.style.display =\n",
              "            google.colab.kernel.accessAllowed ? 'block' : 'none';\n",
              "        })();\n",
              "      </script>\n",
              "    </div>\n",
              "\n",
              "    </div>\n",
              "  </div>\n"
            ],
            "application/vnd.google.colaboratory.intrinsic+json": {
              "type": "dataframe",
              "variable_name": "df"
            }
          },
          "metadata": {},
          "execution_count": 161
        }
      ]
    },
    {
      "cell_type": "markdown",
      "source": [
        "Columnas del dataframe"
      ],
      "metadata": {
        "id": "234fzueqllpr"
      }
    },
    {
      "cell_type": "code",
      "source": [
        "print('Columnas del dataframe')\n",
        "df.dtypes"
      ],
      "metadata": {
        "colab": {
          "base_uri": "https://localhost:8080/",
          "height": 917
        },
        "id": "25HP05cdlcNE",
        "outputId": "28c66b7c-6bd9-4340-871a-2489cae0e39e"
      },
      "execution_count": 162,
      "outputs": [
        {
          "output_type": "stream",
          "name": "stdout",
          "text": [
            "Columnas del dataframe\n"
          ]
        },
        {
          "output_type": "execute_result",
          "data": {
            "text/plain": [
              "Cliente_ID                                 object\n",
              "Edad                                        int64\n",
              "Genero                                     object\n",
              "Tipo de cuenta                             object\n",
              "Saldo de cuenta                           float64\n",
              "Fecha de transaccion                       object\n",
              "Monto de transaccion                      float64\n",
              "Tipo de transaccion                        object\n",
              "Rama                                       object\n",
              "Monto de prestamo                         float64\n",
              "Tipo de prestamo                           object\n",
              "Score crediticio                            int64\n",
              "Es empleado                                  bool\n",
              "Ingreso anual                             float64\n",
              "Estado Civil                               object\n",
              "Region                                     object\n",
              "Fecha de apertura de cuenta                object\n",
              "Fecha de ultima transaccion                object\n",
              "Numero de transacciones                     int64\n",
              "Tendencia de actividad en cuenta           object\n",
              "Interacciones de servicio al cliente        int64\n",
              "Quejas recientes                            int64\n",
              "Cambio en saldo de cuenta                 float64\n",
              "Puntuación de satisfacción del cliente      int64\n",
              "Etiqueta de abandono                        int64\n",
              "Periodo de tiempo de abandono (meses)       int64\n",
              "dtype: object"
            ],
            "text/html": [
              "<div>\n",
              "<style scoped>\n",
              "    .dataframe tbody tr th:only-of-type {\n",
              "        vertical-align: middle;\n",
              "    }\n",
              "\n",
              "    .dataframe tbody tr th {\n",
              "        vertical-align: top;\n",
              "    }\n",
              "\n",
              "    .dataframe thead th {\n",
              "        text-align: right;\n",
              "    }\n",
              "</style>\n",
              "<table border=\"1\" class=\"dataframe\">\n",
              "  <thead>\n",
              "    <tr style=\"text-align: right;\">\n",
              "      <th></th>\n",
              "      <th>0</th>\n",
              "    </tr>\n",
              "  </thead>\n",
              "  <tbody>\n",
              "    <tr>\n",
              "      <th>Cliente_ID</th>\n",
              "      <td>object</td>\n",
              "    </tr>\n",
              "    <tr>\n",
              "      <th>Edad</th>\n",
              "      <td>int64</td>\n",
              "    </tr>\n",
              "    <tr>\n",
              "      <th>Genero</th>\n",
              "      <td>object</td>\n",
              "    </tr>\n",
              "    <tr>\n",
              "      <th>Tipo de cuenta</th>\n",
              "      <td>object</td>\n",
              "    </tr>\n",
              "    <tr>\n",
              "      <th>Saldo de cuenta</th>\n",
              "      <td>float64</td>\n",
              "    </tr>\n",
              "    <tr>\n",
              "      <th>Fecha de transaccion</th>\n",
              "      <td>object</td>\n",
              "    </tr>\n",
              "    <tr>\n",
              "      <th>Monto de transaccion</th>\n",
              "      <td>float64</td>\n",
              "    </tr>\n",
              "    <tr>\n",
              "      <th>Tipo de transaccion</th>\n",
              "      <td>object</td>\n",
              "    </tr>\n",
              "    <tr>\n",
              "      <th>Rama</th>\n",
              "      <td>object</td>\n",
              "    </tr>\n",
              "    <tr>\n",
              "      <th>Monto de prestamo</th>\n",
              "      <td>float64</td>\n",
              "    </tr>\n",
              "    <tr>\n",
              "      <th>Tipo de prestamo</th>\n",
              "      <td>object</td>\n",
              "    </tr>\n",
              "    <tr>\n",
              "      <th>Score crediticio</th>\n",
              "      <td>int64</td>\n",
              "    </tr>\n",
              "    <tr>\n",
              "      <th>Es empleado</th>\n",
              "      <td>bool</td>\n",
              "    </tr>\n",
              "    <tr>\n",
              "      <th>Ingreso anual</th>\n",
              "      <td>float64</td>\n",
              "    </tr>\n",
              "    <tr>\n",
              "      <th>Estado Civil</th>\n",
              "      <td>object</td>\n",
              "    </tr>\n",
              "    <tr>\n",
              "      <th>Region</th>\n",
              "      <td>object</td>\n",
              "    </tr>\n",
              "    <tr>\n",
              "      <th>Fecha de apertura de cuenta</th>\n",
              "      <td>object</td>\n",
              "    </tr>\n",
              "    <tr>\n",
              "      <th>Fecha de ultima transaccion</th>\n",
              "      <td>object</td>\n",
              "    </tr>\n",
              "    <tr>\n",
              "      <th>Numero de transacciones</th>\n",
              "      <td>int64</td>\n",
              "    </tr>\n",
              "    <tr>\n",
              "      <th>Tendencia de actividad en cuenta</th>\n",
              "      <td>object</td>\n",
              "    </tr>\n",
              "    <tr>\n",
              "      <th>Interacciones de servicio al cliente</th>\n",
              "      <td>int64</td>\n",
              "    </tr>\n",
              "    <tr>\n",
              "      <th>Quejas recientes</th>\n",
              "      <td>int64</td>\n",
              "    </tr>\n",
              "    <tr>\n",
              "      <th>Cambio en saldo de cuenta</th>\n",
              "      <td>float64</td>\n",
              "    </tr>\n",
              "    <tr>\n",
              "      <th>Puntuación de satisfacción del cliente</th>\n",
              "      <td>int64</td>\n",
              "    </tr>\n",
              "    <tr>\n",
              "      <th>Etiqueta de abandono</th>\n",
              "      <td>int64</td>\n",
              "    </tr>\n",
              "    <tr>\n",
              "      <th>Periodo de tiempo de abandono (meses)</th>\n",
              "      <td>int64</td>\n",
              "    </tr>\n",
              "  </tbody>\n",
              "</table>\n",
              "</div><br><label><b>dtype:</b> object</label>"
            ]
          },
          "metadata": {},
          "execution_count": 162
        }
      ]
    },
    {
      "cell_type": "markdown",
      "source": [
        "Se cambia el formato de algunas columnas"
      ],
      "metadata": {
        "id": "PfHgMJd_l6Pq"
      }
    },
    {
      "cell_type": "code",
      "source": [
        "fecha_corte='2025-03-31'\n",
        "df['Fecha_corte']= pd.to_datetime(fecha_corte)\n",
        "df['Fecha de transaccion'] = pd.to_datetime(df['Fecha de transaccion'])\n",
        "df['Fecha de apertura de cuenta'] = pd.to_datetime(df['Fecha de apertura de cuenta'])\n",
        "df['Fecha de ultima transaccion'] = pd.to_datetime(df['Fecha de ultima transaccion'])\n"
      ],
      "metadata": {
        "id": "Wxj3PqoDOshr"
      },
      "execution_count": 163,
      "outputs": []
    },
    {
      "cell_type": "markdown",
      "source": [
        "Se crean variables que resultarán de utilidad en el análisis"
      ],
      "metadata": {
        "id": "GCVQ4Mr0mVpO"
      }
    },
    {
      "cell_type": "code",
      "source": [
        "#Antiguedad en años: indica la cantidad de años que el cliente pertenece a la empresa\n",
        "df['Antiguedad en años'] = (df['Fecha_corte'] - df['Fecha de apertura de cuenta']).dt.days / 365\n",
        "#Frecuencia de transacciones por año\n",
        "df['Frecuencia de transacciones por año'] = df['Numero de transacciones']/df['Antiguedad en años']\n",
        "#Recencia: indica el tiempo desde la última transacción\n",
        "df['Recencia'] = (df['Fecha_corte'] - df['Fecha de ultima transaccion']).dt.days\n"
      ],
      "metadata": {
        "id": "ZvWMlnI9QEHt"
      },
      "execution_count": 109,
      "outputs": []
    },
    {
      "cell_type": "markdown",
      "source": [
        "Estructura del dataframe"
      ],
      "metadata": {
        "id": "gbntdbBknvLW"
      }
    },
    {
      "cell_type": "code",
      "source": [
        "filas, columnas = df.shape\n",
        "print(f'El df esta compuesto por {filas} filas y {columnas} columnas')"
      ],
      "metadata": {
        "colab": {
          "base_uri": "https://localhost:8080/"
        },
        "id": "1sUERCV5St7y",
        "outputId": "4e04f283-cf50-4e38-bd3e-915fc6dd5847"
      },
      "execution_count": 165,
      "outputs": [
        {
          "output_type": "stream",
          "name": "stdout",
          "text": [
            "El df esta compuesto por 5000 filas y 28 columnas\n"
          ]
        }
      ]
    },
    {
      "cell_type": "markdown",
      "source": [
        "Detalle de las columnas"
      ],
      "metadata": {
        "id": "c4OOp0Dan6Ix"
      }
    },
    {
      "cell_type": "code",
      "source": [
        "df.info()"
      ],
      "metadata": {
        "colab": {
          "base_uri": "https://localhost:8080/"
        },
        "id": "5glrkIVYTe1C",
        "outputId": "2f94b3a3-bb65-4cde-9021-f595e2d23f8a"
      },
      "execution_count": 113,
      "outputs": [
        {
          "output_type": "stream",
          "name": "stdout",
          "text": [
            "Detalle de las columnas:\n",
            "<class 'pandas.core.frame.DataFrame'>\n",
            "RangeIndex: 5000 entries, 0 to 4999\n",
            "Data columns (total 31 columns):\n",
            " #   Column                                  Non-Null Count  Dtype         \n",
            "---  ------                                  --------------  -----         \n",
            " 0   Cliente_ID                              5000 non-null   object        \n",
            " 1   Edad                                    5000 non-null   int64         \n",
            " 2   Genero                                  5000 non-null   object        \n",
            " 3   Tipo de cuenta                          5000 non-null   object        \n",
            " 4   Saldo de cuenta                         5000 non-null   float64       \n",
            " 5   Fecha de transaccion                    5000 non-null   datetime64[ns]\n",
            " 6   Monto de transaccion                    5000 non-null   float64       \n",
            " 7   Tipo de transaccion                     5000 non-null   object        \n",
            " 8   Rama                                    5000 non-null   object        \n",
            " 9   Monto de prestamo                       5000 non-null   float64       \n",
            " 10  Tipo de prestamo                        1200 non-null   object        \n",
            " 11  Score crediticio                        5000 non-null   int64         \n",
            " 12  Es empleado                             5000 non-null   bool          \n",
            " 13  Ingreso anual                           5000 non-null   float64       \n",
            " 14  Estado Civil                            5000 non-null   object        \n",
            " 15  Region                                  5000 non-null   object        \n",
            " 16  Fecha de apertura de cuenta             5000 non-null   datetime64[ns]\n",
            " 17  Fecha de ultima transaccion             5000 non-null   datetime64[ns]\n",
            " 18  Numero de transacciones                 5000 non-null   int64         \n",
            " 19  Tendencia de actividad en cuenta        5000 non-null   object        \n",
            " 20  Interacciones de servicio al cliente    5000 non-null   int64         \n",
            " 21  Quejas recientes                        5000 non-null   int64         \n",
            " 22  Cambio en saldo de cuenta               5000 non-null   float64       \n",
            " 23  Puntuación de satisfacción del cliente  5000 non-null   int64         \n",
            " 24  Etiqueta de abandono                    5000 non-null   int64         \n",
            " 25  Periodo de tiempo de abandono (meses)   5000 non-null   int64         \n",
            " 26  Fecha_corte                             5000 non-null   datetime64[ns]\n",
            " 27  Antiguedad en años                      5000 non-null   float64       \n",
            " 28  Frecuencia de transacciones por año     5000 non-null   float64       \n",
            " 29  Recencia                                5000 non-null   int64         \n",
            " 30  Tubo prestamo                           5000 non-null   object        \n",
            "dtypes: bool(1), datetime64[ns](4), float64(7), int64(9), object(10)\n",
            "memory usage: 1.1+ MB\n"
          ]
        }
      ]
    },
    {
      "cell_type": "markdown",
      "source": [
        "Se observan valores nulos en la columna 'Tipo de Prestamo'. Se procede a chequear los nulos por columna, a fin de realizar un segundo chequeo."
      ],
      "metadata": {
        "id": "YADBCXWroG_4"
      }
    },
    {
      "cell_type": "markdown",
      "source": [
        "##Chequeo de valores nulos"
      ],
      "metadata": {
        "id": "72C52eTbrqVl"
      }
    },
    {
      "cell_type": "code",
      "source": [
        "# Calcular el porcentaje de valores nulos por columna\n",
        "print(\"\\nPorcentaje de valores nulos por columna:\")\n",
        "print((df.isnull().sum() / len(df)) * 100)"
      ],
      "metadata": {
        "colab": {
          "base_uri": "https://localhost:8080/"
        },
        "id": "TdM4x_0qocRK",
        "outputId": "3bf64c3b-8538-4e0a-f0b7-3ea118579e5a"
      },
      "execution_count": 167,
      "outputs": [
        {
          "output_type": "stream",
          "name": "stdout",
          "text": [
            "\n",
            "Porcentaje de valores nulos por columna:\n",
            "Cliente_ID                                 0.0\n",
            "Edad                                       0.0\n",
            "Genero                                     0.0\n",
            "Tipo de cuenta                             0.0\n",
            "Saldo de cuenta                            0.0\n",
            "Fecha de transaccion                       0.0\n",
            "Monto de transaccion                       0.0\n",
            "Tipo de transaccion                        0.0\n",
            "Rama                                       0.0\n",
            "Monto de prestamo                          0.0\n",
            "Tipo de prestamo                          76.0\n",
            "Score crediticio                           0.0\n",
            "Es empleado                                0.0\n",
            "Ingreso anual                              0.0\n",
            "Estado Civil                               0.0\n",
            "Region                                     0.0\n",
            "Fecha de apertura de cuenta                0.0\n",
            "Fecha de ultima transaccion                0.0\n",
            "Numero de transacciones                    0.0\n",
            "Tendencia de actividad en cuenta           0.0\n",
            "Interacciones de servicio al cliente       0.0\n",
            "Quejas recientes                           0.0\n",
            "Cambio en saldo de cuenta                  0.0\n",
            "Puntuación de satisfacción del cliente     0.0\n",
            "Etiqueta de abandono                       0.0\n",
            "Periodo de tiempo de abandono (meses)      0.0\n",
            "Fecha_corte                                0.0\n",
            "Tuvo prestamo                              0.0\n",
            "dtype: float64\n"
          ]
        }
      ]
    },
    {
      "cell_type": "markdown",
      "source": [
        "Se define un umbral del 30%, para los nulos por columna, y se eliminan aquellas que no superen el mismo"
      ],
      "metadata": {
        "id": "oWGq3seepBtv"
      }
    },
    {
      "cell_type": "code",
      "source": [
        "# Definir un umbral\n",
        "umbral = 0.3 * len(df)\n",
        "\n",
        "# Identificar columnas a eliminar\n",
        "columnas_a_eliminar = df.columns[df.isnull().sum() > umbral]\n",
        "print(\"Columnas a eliminar, con más del 30% de NaN:\", columnas_a_eliminar.tolist())\n",
        "\n",
        "# Eliminar las columnas identificadas\n",
        "df.drop(columns=columnas_a_eliminar, inplace=True)\n",
        "\n",
        "print(\"\\nTamaño del DataFrame original:\", df.shape)\n",
        "print(\"Tamaño después de eliminar columnas con >30% NaN:\", df.shape)"
      ],
      "metadata": {
        "colab": {
          "base_uri": "https://localhost:8080/"
        },
        "id": "RstlYyxaovwE",
        "outputId": "5823fce4-e67e-495e-ff2f-0efc7628f0fd"
      },
      "execution_count": 169,
      "outputs": [
        {
          "output_type": "stream",
          "name": "stdout",
          "text": [
            "Columnas a eliminar, con más del 30% de NaN: []\n",
            "\n",
            "Tamaño del DataFrame original: (5000, 27)\n",
            "Tamaño después de eliminar columnas con >30% NaN: (5000, 27)\n"
          ]
        }
      ]
    },
    {
      "cell_type": "markdown",
      "source": [
        "La columna 'Tipo de prestamo' presenta un 76% de valores nulos, lo que supera al umbral definido. Por lo anterior, se procede a eliminarla del analisis"
      ],
      "metadata": {
        "id": "6WLJDWmlpfFt"
      }
    },
    {
      "cell_type": "markdown",
      "source": [
        "##Valores distintos por columna"
      ],
      "metadata": {
        "id": "4blRa6a-qUo9"
      }
    },
    {
      "cell_type": "markdown",
      "source": [
        "Valores distintos"
      ],
      "metadata": {
        "id": "LKv2nRW9s0Ry"
      }
    },
    {
      "cell_type": "code",
      "source": [
        "distintos_por_columna = df.nunique()\n",
        "print(distintos_por_columna)"
      ],
      "metadata": {
        "colab": {
          "base_uri": "https://localhost:8080/"
        },
        "id": "ZDv4BKbcoGjq",
        "outputId": "d709ae94-e9e4-4c56-cc43-7ebe1177794d"
      },
      "execution_count": 176,
      "outputs": [
        {
          "output_type": "stream",
          "name": "stdout",
          "text": [
            "Cliente_ID                                5000\n",
            "Edad                                        53\n",
            "Genero                                       3\n",
            "Tipo de cuenta                               3\n",
            "Saldo de cuenta                           4999\n",
            "Fecha de transaccion                        89\n",
            "Monto de transaccion                      4975\n",
            "Tipo de transaccion                          4\n",
            "Rama                                      4312\n",
            "Monto de prestamo                         1486\n",
            "Score crediticio                           551\n",
            "Es empleado                                  2\n",
            "Ingreso anual                             4998\n",
            "Estado Civil                                 4\n",
            "Region                                       4\n",
            "Fecha de apertura de cuenta               1796\n",
            "Fecha de ultima transaccion                 89\n",
            "Numero de transacciones                     20\n",
            "Tendencia de actividad en cuenta             3\n",
            "Interacciones de servicio al cliente         6\n",
            "Quejas recientes                             3\n",
            "Cambio en saldo de cuenta                 4987\n",
            "Puntuación de satisfacción del cliente       5\n",
            "Etiqueta de abandono                         2\n",
            "Periodo de tiempo de abandono (meses)       13\n",
            "Fecha_corte                                  1\n",
            "Tuvo prestamo                                2\n",
            "dtype: int64\n"
          ]
        }
      ]
    },
    {
      "cell_type": "markdown",
      "source": [
        "Valores iguales a cero"
      ],
      "metadata": {
        "id": "aQP0NZbcsx-D"
      }
    },
    {
      "cell_type": "code",
      "source": [
        "ceros_por_col = (df == 0).sum()\n",
        "print(ceros_por_col)"
      ],
      "metadata": {
        "colab": {
          "base_uri": "https://localhost:8080/"
        },
        "id": "qxaF13c5qwjN",
        "outputId": "086cc640-f330-45cf-efee-be253c2e3ac4"
      },
      "execution_count": 174,
      "outputs": [
        {
          "output_type": "stream",
          "name": "stdout",
          "text": [
            "Cliente_ID                                   0\n",
            "Edad                                         0\n",
            "Genero                                       0\n",
            "Tipo de cuenta                               0\n",
            "Saldo de cuenta                              0\n",
            "Fecha de transaccion                         0\n",
            "Monto de transaccion                         0\n",
            "Tipo de transaccion                          0\n",
            "Rama                                         0\n",
            "Monto de prestamo                         3514\n",
            "Score crediticio                             0\n",
            "Es empleado                               2457\n",
            "Ingreso anual                                0\n",
            "Estado Civil                                 0\n",
            "Region                                       0\n",
            "Fecha de apertura de cuenta                  0\n",
            "Fecha de ultima transaccion                  0\n",
            "Numero de transacciones                      0\n",
            "Tendencia de actividad en cuenta             0\n",
            "Interacciones de servicio al cliente       825\n",
            "Quejas recientes                          1656\n",
            "Cambio en saldo de cuenta                    0\n",
            "Puntuación de satisfacción del cliente       0\n",
            "Etiqueta de abandono                      3417\n",
            "Periodo de tiempo de abandono (meses)     3417\n",
            "Fecha_corte                                  0\n",
            "Tuvo prestamo                                0\n",
            "dtype: int64\n"
          ]
        }
      ]
    },
    {
      "cell_type": "markdown",
      "source": [
        "Se identifican los valores distintos por columna. Se detecta que la columna Monto de prestamo tiene 3.514 valores en cero, que corresponderían a clientes que no accedieron a un prestamo con la empresa. A fin de mejorar esta identificacion, se crea la columna tuvo_prestamo, para utilizar durante el análisis.\n",
        "\n",
        "Los valores del resto de las columnas se ven coherentes"
      ],
      "metadata": {
        "id": "Hw0ZlKg3rz1M"
      }
    },
    {
      "cell_type": "code",
      "source": [
        "#Se crea la columna 'Tuvo prestamo', la cual indica si el cliente en algún momento adquirió un prestamo con la empresa\n",
        "def tuvo_prestamo(row):\n",
        "    if row['Monto de prestamo'] > 0:\n",
        "        return 'Si'\n",
        "    else:\n",
        "        return 'No'\n",
        "\n",
        "# Aplicar la función a cada fila\n",
        "df['Tuvo prestamo'] = df.apply(tuvo_prestamo, axis=1)"
      ],
      "metadata": {
        "id": "9SfnRz_srNEw"
      },
      "execution_count": null,
      "outputs": []
    },
    {
      "cell_type": "markdown",
      "source": [
        "## Estadisticos descriptivos"
      ],
      "metadata": {
        "id": "ehLUQnSstfPX"
      }
    },
    {
      "cell_type": "code",
      "source": [
        "print('Estadisticos descriptivos:')\n",
        "df.describe()"
      ],
      "metadata": {
        "colab": {
          "base_uri": "https://localhost:8080/",
          "height": 494
        },
        "id": "fSn7QIqVUuTj",
        "outputId": "4e4c2db2-bcb2-4ad8-bbf7-c32f22767707"
      },
      "execution_count": 114,
      "outputs": [
        {
          "output_type": "stream",
          "name": "stdout",
          "text": [
            "Estadisticos descriptivos:\n"
          ]
        },
        {
          "output_type": "execute_result",
          "data": {
            "text/plain": [
              "              Edad  Saldo de cuenta           Fecha de transaccion  \\\n",
              "count  5000.000000      5000.000000                           5000   \n",
              "mean     43.930000     50378.659748  2025-02-14 08:03:15.839999744   \n",
              "min      18.000000       509.950000            2025-01-01 00:00:00   \n",
              "25%      31.000000     26085.310000            2025-01-23 00:00:00   \n",
              "50%      44.000000     50587.400000            2025-02-14 00:00:00   \n",
              "75%      57.000000     75093.985000            2025-03-09 00:00:00   \n",
              "max      70.000000     99994.250000            2025-03-30 00:00:00   \n",
              "std      15.187285     28436.192789                            NaN   \n",
              "\n",
              "       Monto de transaccion  Monto de prestamo  Score crediticio  \\\n",
              "count           5000.000000         5000.00000       5000.000000   \n",
              "mean            2519.289100         7661.64505        574.537800   \n",
              "min               10.480000            0.00000        300.000000   \n",
              "25%             1258.035000            0.00000        438.000000   \n",
              "50%             2548.545000            0.00000        573.000000   \n",
              "75%             3733.492500         9045.88000        708.000000   \n",
              "max             4999.930000        49953.14000        850.000000   \n",
              "std             1436.423023        14021.98745        158.134083   \n",
              "\n",
              "       Ingreso anual Fecha de apertura de cuenta  \\\n",
              "count    5000.000000                        5000   \n",
              "mean   110500.612678  2022-08-15 14:34:39.360000   \n",
              "min     20019.560000         2020-01-01 00:00:00   \n",
              "25%     66260.917500         2021-04-23 18:00:00   \n",
              "50%    110586.580000         2022-08-28 00:00:00   \n",
              "75%    155956.980000         2023-12-07 00:00:00   \n",
              "max    199911.090000         2025-03-30 00:00:00   \n",
              "std     52015.230170                         NaN   \n",
              "\n",
              "         Fecha de ultima transaccion  Numero de transacciones  \\\n",
              "count                           5000              5000.000000   \n",
              "mean   2025-02-13 12:18:08.639999744                10.468200   \n",
              "min              2025-01-01 00:00:00                 1.000000   \n",
              "25%              2025-01-23 00:00:00                 5.000000   \n",
              "50%              2025-02-13 00:00:00                11.000000   \n",
              "75%              2025-03-08 00:00:00                15.000000   \n",
              "max              2025-03-30 00:00:00                20.000000   \n",
              "std                              NaN                 5.733059   \n",
              "\n",
              "       Interacciones de servicio al cliente  Quejas recientes  \\\n",
              "count                           5000.000000       5000.000000   \n",
              "mean                               2.530000          1.016000   \n",
              "min                                0.000000          0.000000   \n",
              "25%                                1.000000          0.000000   \n",
              "50%                                3.000000          1.000000   \n",
              "75%                                4.000000          2.000000   \n",
              "max                                5.000000          2.000000   \n",
              "std                                1.719561          0.823577   \n",
              "\n",
              "       Cambio en saldo de cuenta  Puntuación de satisfacción del cliente  \\\n",
              "count                5000.000000                             5000.000000   \n",
              "mean                   46.275696                                3.036600   \n",
              "min                 -4999.230000                                1.000000   \n",
              "25%                 -2474.207500                                2.000000   \n",
              "50%                    36.780000                                3.000000   \n",
              "75%                  2566.350000                                4.000000   \n",
              "max                  4999.570000                                5.000000   \n",
              "std                  2899.725824                                1.426628   \n",
              "\n",
              "       Etiqueta de abandono  Periodo de tiempo de abandono (meses)  \\\n",
              "count           5000.000000                            5000.000000   \n",
              "mean               0.316600                               2.124400   \n",
              "min                0.000000                               0.000000   \n",
              "25%                0.000000                               0.000000   \n",
              "50%                0.000000                               0.000000   \n",
              "75%                1.000000                               3.000000   \n",
              "max                1.000000                              12.000000   \n",
              "std                0.465196                               3.657814   \n",
              "\n",
              "               Fecha_corte  Antiguedad en años  \\\n",
              "count                 5000         5000.000000   \n",
              "mean   2025-03-31 00:00:00            2.625733   \n",
              "min    2025-03-31 00:00:00            0.002740   \n",
              "25%    2025-03-31 00:00:00            1.315068   \n",
              "50%    2025-03-31 00:00:00            2.591781   \n",
              "75%    2025-03-31 00:00:00            3.937671   \n",
              "max    2025-03-31 00:00:00            5.249315   \n",
              "std                    NaN            1.511140   \n",
              "\n",
              "       Frecuencia de transacciones por año     Recencia  \n",
              "count                          5000.000000  5000.000000  \n",
              "mean                             17.305446    45.487400  \n",
              "min                               0.190900     1.000000  \n",
              "25%                               2.073275    23.000000  \n",
              "50%                               4.028205    46.000000  \n",
              "75%                               7.978142    67.000000  \n",
              "max                            6935.000000    89.000000  \n",
              "std                             144.312680    25.573569  "
            ],
            "text/html": [
              "\n",
              "  <div id=\"df-09079b9e-9932-45ef-86ab-6fb915a61b91\" class=\"colab-df-container\">\n",
              "    <div>\n",
              "<style scoped>\n",
              "    .dataframe tbody tr th:only-of-type {\n",
              "        vertical-align: middle;\n",
              "    }\n",
              "\n",
              "    .dataframe tbody tr th {\n",
              "        vertical-align: top;\n",
              "    }\n",
              "\n",
              "    .dataframe thead th {\n",
              "        text-align: right;\n",
              "    }\n",
              "</style>\n",
              "<table border=\"1\" class=\"dataframe\">\n",
              "  <thead>\n",
              "    <tr style=\"text-align: right;\">\n",
              "      <th></th>\n",
              "      <th>Edad</th>\n",
              "      <th>Saldo de cuenta</th>\n",
              "      <th>Fecha de transaccion</th>\n",
              "      <th>Monto de transaccion</th>\n",
              "      <th>Monto de prestamo</th>\n",
              "      <th>Score crediticio</th>\n",
              "      <th>Ingreso anual</th>\n",
              "      <th>Fecha de apertura de cuenta</th>\n",
              "      <th>Fecha de ultima transaccion</th>\n",
              "      <th>Numero de transacciones</th>\n",
              "      <th>Interacciones de servicio al cliente</th>\n",
              "      <th>Quejas recientes</th>\n",
              "      <th>Cambio en saldo de cuenta</th>\n",
              "      <th>Puntuación de satisfacción del cliente</th>\n",
              "      <th>Etiqueta de abandono</th>\n",
              "      <th>Periodo de tiempo de abandono (meses)</th>\n",
              "      <th>Fecha_corte</th>\n",
              "      <th>Antiguedad en años</th>\n",
              "      <th>Frecuencia de transacciones por año</th>\n",
              "      <th>Recencia</th>\n",
              "    </tr>\n",
              "  </thead>\n",
              "  <tbody>\n",
              "    <tr>\n",
              "      <th>count</th>\n",
              "      <td>5000.000000</td>\n",
              "      <td>5000.000000</td>\n",
              "      <td>5000</td>\n",
              "      <td>5000.000000</td>\n",
              "      <td>5000.00000</td>\n",
              "      <td>5000.000000</td>\n",
              "      <td>5000.000000</td>\n",
              "      <td>5000</td>\n",
              "      <td>5000</td>\n",
              "      <td>5000.000000</td>\n",
              "      <td>5000.000000</td>\n",
              "      <td>5000.000000</td>\n",
              "      <td>5000.000000</td>\n",
              "      <td>5000.000000</td>\n",
              "      <td>5000.000000</td>\n",
              "      <td>5000.000000</td>\n",
              "      <td>5000</td>\n",
              "      <td>5000.000000</td>\n",
              "      <td>5000.000000</td>\n",
              "      <td>5000.000000</td>\n",
              "    </tr>\n",
              "    <tr>\n",
              "      <th>mean</th>\n",
              "      <td>43.930000</td>\n",
              "      <td>50378.659748</td>\n",
              "      <td>2025-02-14 08:03:15.839999744</td>\n",
              "      <td>2519.289100</td>\n",
              "      <td>7661.64505</td>\n",
              "      <td>574.537800</td>\n",
              "      <td>110500.612678</td>\n",
              "      <td>2022-08-15 14:34:39.360000</td>\n",
              "      <td>2025-02-13 12:18:08.639999744</td>\n",
              "      <td>10.468200</td>\n",
              "      <td>2.530000</td>\n",
              "      <td>1.016000</td>\n",
              "      <td>46.275696</td>\n",
              "      <td>3.036600</td>\n",
              "      <td>0.316600</td>\n",
              "      <td>2.124400</td>\n",
              "      <td>2025-03-31 00:00:00</td>\n",
              "      <td>2.625733</td>\n",
              "      <td>17.305446</td>\n",
              "      <td>45.487400</td>\n",
              "    </tr>\n",
              "    <tr>\n",
              "      <th>min</th>\n",
              "      <td>18.000000</td>\n",
              "      <td>509.950000</td>\n",
              "      <td>2025-01-01 00:00:00</td>\n",
              "      <td>10.480000</td>\n",
              "      <td>0.00000</td>\n",
              "      <td>300.000000</td>\n",
              "      <td>20019.560000</td>\n",
              "      <td>2020-01-01 00:00:00</td>\n",
              "      <td>2025-01-01 00:00:00</td>\n",
              "      <td>1.000000</td>\n",
              "      <td>0.000000</td>\n",
              "      <td>0.000000</td>\n",
              "      <td>-4999.230000</td>\n",
              "      <td>1.000000</td>\n",
              "      <td>0.000000</td>\n",
              "      <td>0.000000</td>\n",
              "      <td>2025-03-31 00:00:00</td>\n",
              "      <td>0.002740</td>\n",
              "      <td>0.190900</td>\n",
              "      <td>1.000000</td>\n",
              "    </tr>\n",
              "    <tr>\n",
              "      <th>25%</th>\n",
              "      <td>31.000000</td>\n",
              "      <td>26085.310000</td>\n",
              "      <td>2025-01-23 00:00:00</td>\n",
              "      <td>1258.035000</td>\n",
              "      <td>0.00000</td>\n",
              "      <td>438.000000</td>\n",
              "      <td>66260.917500</td>\n",
              "      <td>2021-04-23 18:00:00</td>\n",
              "      <td>2025-01-23 00:00:00</td>\n",
              "      <td>5.000000</td>\n",
              "      <td>1.000000</td>\n",
              "      <td>0.000000</td>\n",
              "      <td>-2474.207500</td>\n",
              "      <td>2.000000</td>\n",
              "      <td>0.000000</td>\n",
              "      <td>0.000000</td>\n",
              "      <td>2025-03-31 00:00:00</td>\n",
              "      <td>1.315068</td>\n",
              "      <td>2.073275</td>\n",
              "      <td>23.000000</td>\n",
              "    </tr>\n",
              "    <tr>\n",
              "      <th>50%</th>\n",
              "      <td>44.000000</td>\n",
              "      <td>50587.400000</td>\n",
              "      <td>2025-02-14 00:00:00</td>\n",
              "      <td>2548.545000</td>\n",
              "      <td>0.00000</td>\n",
              "      <td>573.000000</td>\n",
              "      <td>110586.580000</td>\n",
              "      <td>2022-08-28 00:00:00</td>\n",
              "      <td>2025-02-13 00:00:00</td>\n",
              "      <td>11.000000</td>\n",
              "      <td>3.000000</td>\n",
              "      <td>1.000000</td>\n",
              "      <td>36.780000</td>\n",
              "      <td>3.000000</td>\n",
              "      <td>0.000000</td>\n",
              "      <td>0.000000</td>\n",
              "      <td>2025-03-31 00:00:00</td>\n",
              "      <td>2.591781</td>\n",
              "      <td>4.028205</td>\n",
              "      <td>46.000000</td>\n",
              "    </tr>\n",
              "    <tr>\n",
              "      <th>75%</th>\n",
              "      <td>57.000000</td>\n",
              "      <td>75093.985000</td>\n",
              "      <td>2025-03-09 00:00:00</td>\n",
              "      <td>3733.492500</td>\n",
              "      <td>9045.88000</td>\n",
              "      <td>708.000000</td>\n",
              "      <td>155956.980000</td>\n",
              "      <td>2023-12-07 00:00:00</td>\n",
              "      <td>2025-03-08 00:00:00</td>\n",
              "      <td>15.000000</td>\n",
              "      <td>4.000000</td>\n",
              "      <td>2.000000</td>\n",
              "      <td>2566.350000</td>\n",
              "      <td>4.000000</td>\n",
              "      <td>1.000000</td>\n",
              "      <td>3.000000</td>\n",
              "      <td>2025-03-31 00:00:00</td>\n",
              "      <td>3.937671</td>\n",
              "      <td>7.978142</td>\n",
              "      <td>67.000000</td>\n",
              "    </tr>\n",
              "    <tr>\n",
              "      <th>max</th>\n",
              "      <td>70.000000</td>\n",
              "      <td>99994.250000</td>\n",
              "      <td>2025-03-30 00:00:00</td>\n",
              "      <td>4999.930000</td>\n",
              "      <td>49953.14000</td>\n",
              "      <td>850.000000</td>\n",
              "      <td>199911.090000</td>\n",
              "      <td>2025-03-30 00:00:00</td>\n",
              "      <td>2025-03-30 00:00:00</td>\n",
              "      <td>20.000000</td>\n",
              "      <td>5.000000</td>\n",
              "      <td>2.000000</td>\n",
              "      <td>4999.570000</td>\n",
              "      <td>5.000000</td>\n",
              "      <td>1.000000</td>\n",
              "      <td>12.000000</td>\n",
              "      <td>2025-03-31 00:00:00</td>\n",
              "      <td>5.249315</td>\n",
              "      <td>6935.000000</td>\n",
              "      <td>89.000000</td>\n",
              "    </tr>\n",
              "    <tr>\n",
              "      <th>std</th>\n",
              "      <td>15.187285</td>\n",
              "      <td>28436.192789</td>\n",
              "      <td>NaN</td>\n",
              "      <td>1436.423023</td>\n",
              "      <td>14021.98745</td>\n",
              "      <td>158.134083</td>\n",
              "      <td>52015.230170</td>\n",
              "      <td>NaN</td>\n",
              "      <td>NaN</td>\n",
              "      <td>5.733059</td>\n",
              "      <td>1.719561</td>\n",
              "      <td>0.823577</td>\n",
              "      <td>2899.725824</td>\n",
              "      <td>1.426628</td>\n",
              "      <td>0.465196</td>\n",
              "      <td>3.657814</td>\n",
              "      <td>NaN</td>\n",
              "      <td>1.511140</td>\n",
              "      <td>144.312680</td>\n",
              "      <td>25.573569</td>\n",
              "    </tr>\n",
              "  </tbody>\n",
              "</table>\n",
              "</div>\n",
              "    <div class=\"colab-df-buttons\">\n",
              "\n",
              "  <div class=\"colab-df-container\">\n",
              "    <button class=\"colab-df-convert\" onclick=\"convertToInteractive('df-09079b9e-9932-45ef-86ab-6fb915a61b91')\"\n",
              "            title=\"Convert this dataframe to an interactive table.\"\n",
              "            style=\"display:none;\">\n",
              "\n",
              "  <svg xmlns=\"http://www.w3.org/2000/svg\" height=\"24px\" viewBox=\"0 -960 960 960\">\n",
              "    <path d=\"M120-120v-720h720v720H120Zm60-500h600v-160H180v160Zm220 220h160v-160H400v160Zm0 220h160v-160H400v160ZM180-400h160v-160H180v160Zm440 0h160v-160H620v160ZM180-180h160v-160H180v160Zm440 0h160v-160H620v160Z\"/>\n",
              "  </svg>\n",
              "    </button>\n",
              "\n",
              "  <style>\n",
              "    .colab-df-container {\n",
              "      display:flex;\n",
              "      gap: 12px;\n",
              "    }\n",
              "\n",
              "    .colab-df-convert {\n",
              "      background-color: #E8F0FE;\n",
              "      border: none;\n",
              "      border-radius: 50%;\n",
              "      cursor: pointer;\n",
              "      display: none;\n",
              "      fill: #1967D2;\n",
              "      height: 32px;\n",
              "      padding: 0 0 0 0;\n",
              "      width: 32px;\n",
              "    }\n",
              "\n",
              "    .colab-df-convert:hover {\n",
              "      background-color: #E2EBFA;\n",
              "      box-shadow: 0px 1px 2px rgba(60, 64, 67, 0.3), 0px 1px 3px 1px rgba(60, 64, 67, 0.15);\n",
              "      fill: #174EA6;\n",
              "    }\n",
              "\n",
              "    .colab-df-buttons div {\n",
              "      margin-bottom: 4px;\n",
              "    }\n",
              "\n",
              "    [theme=dark] .colab-df-convert {\n",
              "      background-color: #3B4455;\n",
              "      fill: #D2E3FC;\n",
              "    }\n",
              "\n",
              "    [theme=dark] .colab-df-convert:hover {\n",
              "      background-color: #434B5C;\n",
              "      box-shadow: 0px 1px 3px 1px rgba(0, 0, 0, 0.15);\n",
              "      filter: drop-shadow(0px 1px 2px rgba(0, 0, 0, 0.3));\n",
              "      fill: #FFFFFF;\n",
              "    }\n",
              "  </style>\n",
              "\n",
              "    <script>\n",
              "      const buttonEl =\n",
              "        document.querySelector('#df-09079b9e-9932-45ef-86ab-6fb915a61b91 button.colab-df-convert');\n",
              "      buttonEl.style.display =\n",
              "        google.colab.kernel.accessAllowed ? 'block' : 'none';\n",
              "\n",
              "      async function convertToInteractive(key) {\n",
              "        const element = document.querySelector('#df-09079b9e-9932-45ef-86ab-6fb915a61b91');\n",
              "        const dataTable =\n",
              "          await google.colab.kernel.invokeFunction('convertToInteractive',\n",
              "                                                    [key], {});\n",
              "        if (!dataTable) return;\n",
              "\n",
              "        const docLinkHtml = 'Like what you see? Visit the ' +\n",
              "          '<a target=\"_blank\" href=https://colab.research.google.com/notebooks/data_table.ipynb>data table notebook</a>'\n",
              "          + ' to learn more about interactive tables.';\n",
              "        element.innerHTML = '';\n",
              "        dataTable['output_type'] = 'display_data';\n",
              "        await google.colab.output.renderOutput(dataTable, element);\n",
              "        const docLink = document.createElement('div');\n",
              "        docLink.innerHTML = docLinkHtml;\n",
              "        element.appendChild(docLink);\n",
              "      }\n",
              "    </script>\n",
              "  </div>\n",
              "\n",
              "\n",
              "    <div id=\"df-3e87d6b9-45fe-4a07-b788-2be8eeb9f028\">\n",
              "      <button class=\"colab-df-quickchart\" onclick=\"quickchart('df-3e87d6b9-45fe-4a07-b788-2be8eeb9f028')\"\n",
              "                title=\"Suggest charts\"\n",
              "                style=\"display:none;\">\n",
              "\n",
              "<svg xmlns=\"http://www.w3.org/2000/svg\" height=\"24px\"viewBox=\"0 0 24 24\"\n",
              "     width=\"24px\">\n",
              "    <g>\n",
              "        <path d=\"M19 3H5c-1.1 0-2 .9-2 2v14c0 1.1.9 2 2 2h14c1.1 0 2-.9 2-2V5c0-1.1-.9-2-2-2zM9 17H7v-7h2v7zm4 0h-2V7h2v10zm4 0h-2v-4h2v4z\"/>\n",
              "    </g>\n",
              "</svg>\n",
              "      </button>\n",
              "\n",
              "<style>\n",
              "  .colab-df-quickchart {\n",
              "      --bg-color: #E8F0FE;\n",
              "      --fill-color: #1967D2;\n",
              "      --hover-bg-color: #E2EBFA;\n",
              "      --hover-fill-color: #174EA6;\n",
              "      --disabled-fill-color: #AAA;\n",
              "      --disabled-bg-color: #DDD;\n",
              "  }\n",
              "\n",
              "  [theme=dark] .colab-df-quickchart {\n",
              "      --bg-color: #3B4455;\n",
              "      --fill-color: #D2E3FC;\n",
              "      --hover-bg-color: #434B5C;\n",
              "      --hover-fill-color: #FFFFFF;\n",
              "      --disabled-bg-color: #3B4455;\n",
              "      --disabled-fill-color: #666;\n",
              "  }\n",
              "\n",
              "  .colab-df-quickchart {\n",
              "    background-color: var(--bg-color);\n",
              "    border: none;\n",
              "    border-radius: 50%;\n",
              "    cursor: pointer;\n",
              "    display: none;\n",
              "    fill: var(--fill-color);\n",
              "    height: 32px;\n",
              "    padding: 0;\n",
              "    width: 32px;\n",
              "  }\n",
              "\n",
              "  .colab-df-quickchart:hover {\n",
              "    background-color: var(--hover-bg-color);\n",
              "    box-shadow: 0 1px 2px rgba(60, 64, 67, 0.3), 0 1px 3px 1px rgba(60, 64, 67, 0.15);\n",
              "    fill: var(--button-hover-fill-color);\n",
              "  }\n",
              "\n",
              "  .colab-df-quickchart-complete:disabled,\n",
              "  .colab-df-quickchart-complete:disabled:hover {\n",
              "    background-color: var(--disabled-bg-color);\n",
              "    fill: var(--disabled-fill-color);\n",
              "    box-shadow: none;\n",
              "  }\n",
              "\n",
              "  .colab-df-spinner {\n",
              "    border: 2px solid var(--fill-color);\n",
              "    border-color: transparent;\n",
              "    border-bottom-color: var(--fill-color);\n",
              "    animation:\n",
              "      spin 1s steps(1) infinite;\n",
              "  }\n",
              "\n",
              "  @keyframes spin {\n",
              "    0% {\n",
              "      border-color: transparent;\n",
              "      border-bottom-color: var(--fill-color);\n",
              "      border-left-color: var(--fill-color);\n",
              "    }\n",
              "    20% {\n",
              "      border-color: transparent;\n",
              "      border-left-color: var(--fill-color);\n",
              "      border-top-color: var(--fill-color);\n",
              "    }\n",
              "    30% {\n",
              "      border-color: transparent;\n",
              "      border-left-color: var(--fill-color);\n",
              "      border-top-color: var(--fill-color);\n",
              "      border-right-color: var(--fill-color);\n",
              "    }\n",
              "    40% {\n",
              "      border-color: transparent;\n",
              "      border-right-color: var(--fill-color);\n",
              "      border-top-color: var(--fill-color);\n",
              "    }\n",
              "    60% {\n",
              "      border-color: transparent;\n",
              "      border-right-color: var(--fill-color);\n",
              "    }\n",
              "    80% {\n",
              "      border-color: transparent;\n",
              "      border-right-color: var(--fill-color);\n",
              "      border-bottom-color: var(--fill-color);\n",
              "    }\n",
              "    90% {\n",
              "      border-color: transparent;\n",
              "      border-bottom-color: var(--fill-color);\n",
              "    }\n",
              "  }\n",
              "</style>\n",
              "\n",
              "      <script>\n",
              "        async function quickchart(key) {\n",
              "          const quickchartButtonEl =\n",
              "            document.querySelector('#' + key + ' button');\n",
              "          quickchartButtonEl.disabled = true;  // To prevent multiple clicks.\n",
              "          quickchartButtonEl.classList.add('colab-df-spinner');\n",
              "          try {\n",
              "            const charts = await google.colab.kernel.invokeFunction(\n",
              "                'suggestCharts', [key], {});\n",
              "          } catch (error) {\n",
              "            console.error('Error during call to suggestCharts:', error);\n",
              "          }\n",
              "          quickchartButtonEl.classList.remove('colab-df-spinner');\n",
              "          quickchartButtonEl.classList.add('colab-df-quickchart-complete');\n",
              "        }\n",
              "        (() => {\n",
              "          let quickchartButtonEl =\n",
              "            document.querySelector('#df-3e87d6b9-45fe-4a07-b788-2be8eeb9f028 button');\n",
              "          quickchartButtonEl.style.display =\n",
              "            google.colab.kernel.accessAllowed ? 'block' : 'none';\n",
              "        })();\n",
              "      </script>\n",
              "    </div>\n",
              "\n",
              "    </div>\n",
              "  </div>\n"
            ],
            "application/vnd.google.colaboratory.intrinsic+json": {
              "type": "dataframe",
              "summary": "{\n  \"name\": \"df\",\n  \"rows\": 8,\n  \"fields\": [\n    {\n      \"column\": \"Edad\",\n      \"properties\": {\n        \"dtype\": \"number\",\n        \"std\": 1753.7671935706562,\n        \"min\": 15.18728516641955,\n        \"max\": 5000.0,\n        \"num_unique_values\": 8,\n        \"samples\": [\n          43.93,\n          57.0,\n          5000.0\n        ],\n        \"semantic_type\": \"\",\n        \"description\": \"\"\n      }\n    },\n    {\n      \"column\": \"Saldo de cuenta\",\n      \"properties\": {\n        \"dtype\": \"number\",\n        \"std\": 34080.090140608016,\n        \"min\": 509.95,\n        \"max\": 99994.25,\n        \"num_unique_values\": 8,\n        \"samples\": [\n          50378.659748000005,\n          75093.985,\n          5000.0\n        ],\n        \"semantic_type\": \"\",\n        \"description\": \"\"\n      }\n    },\n    {\n      \"column\": \"Fecha de transaccion\",\n      \"properties\": {\n        \"dtype\": \"date\",\n        \"min\": \"1970-01-01 00:00:00.000005\",\n        \"max\": \"2025-03-30 00:00:00\",\n        \"num_unique_values\": 7,\n        \"samples\": [\n          \"5000\",\n          \"2025-02-14 08:03:15.839999744\",\n          \"2025-03-09 00:00:00\"\n        ],\n        \"semantic_type\": \"\",\n        \"description\": \"\"\n      }\n    },\n    {\n      \"column\": \"Monto de transaccion\",\n      \"properties\": {\n        \"dtype\": \"number\",\n        \"std\": 1797.287143656212,\n        \"min\": 10.48,\n        \"max\": 5000.0,\n        \"num_unique_values\": 8,\n        \"samples\": [\n          2519.2891,\n          3733.4925,\n          5000.0\n        ],\n        \"semantic_type\": \"\",\n        \"description\": \"\"\n      }\n    },\n    {\n      \"column\": \"Monto de prestamo\",\n      \"properties\": {\n        \"dtype\": \"number\",\n        \"std\": 16646.627544867817,\n        \"min\": 0.0,\n        \"max\": 49953.14,\n        \"num_unique_values\": 6,\n        \"samples\": [\n          5000.0,\n          7661.64505,\n          14021.98744972619\n        ],\n        \"semantic_type\": \"\",\n        \"description\": \"\"\n      }\n    },\n    {\n      \"column\": \"Score crediticio\",\n      \"properties\": {\n        \"dtype\": \"number\",\n        \"std\": 1600.9123369298422,\n        \"min\": 158.13408313456577,\n        \"max\": 5000.0,\n        \"num_unique_values\": 8,\n        \"samples\": [\n          574.5378,\n          708.0,\n          5000.0\n        ],\n        \"semantic_type\": \"\",\n        \"description\": \"\"\n      }\n    },\n    {\n      \"column\": \"Ingreso anual\",\n      \"properties\": {\n        \"dtype\": \"number\",\n        \"std\": 66979.20167406026,\n        \"min\": 5000.0,\n        \"max\": 199911.09,\n        \"num_unique_values\": 8,\n        \"samples\": [\n          110500.61267799999,\n          155956.97999999998,\n          5000.0\n        ],\n        \"semantic_type\": \"\",\n        \"description\": \"\"\n      }\n    },\n    {\n      \"column\": \"Fecha de apertura de cuenta\",\n      \"properties\": {\n        \"dtype\": \"date\",\n        \"min\": \"1970-01-01 00:00:00.000005\",\n        \"max\": \"2025-03-30 00:00:00\",\n        \"num_unique_values\": 7,\n        \"samples\": [\n          \"5000\",\n          \"2022-08-15 14:34:39.360000\",\n          \"2023-12-07 00:00:00\"\n        ],\n        \"semantic_type\": \"\",\n        \"description\": \"\"\n      }\n    },\n    {\n      \"column\": \"Fecha de ultima transaccion\",\n      \"properties\": {\n        \"dtype\": \"date\",\n        \"min\": \"1970-01-01 00:00:00.000005\",\n        \"max\": \"2025-03-30 00:00:00\",\n        \"num_unique_values\": 7,\n        \"samples\": [\n          \"5000\",\n          \"2025-02-13 12:18:08.639999744\",\n          \"2025-03-08 00:00:00\"\n        ],\n        \"semantic_type\": \"\",\n        \"description\": \"\"\n      }\n    },\n    {\n      \"column\": \"Numero de transacciones\",\n      \"properties\": {\n        \"dtype\": \"number\",\n        \"std\": 1764.3323889669584,\n        \"min\": 1.0,\n        \"max\": 5000.0,\n        \"num_unique_values\": 8,\n        \"samples\": [\n          10.4682,\n          15.0,\n          5000.0\n        ],\n        \"semantic_type\": \"\",\n        \"description\": \"\"\n      }\n    },\n    {\n      \"column\": \"Interacciones de servicio al cliente\",\n      \"properties\": {\n        \"dtype\": \"number\",\n        \"std\": 1766.8964401956046,\n        \"min\": 0.0,\n        \"max\": 5000.0,\n        \"num_unique_values\": 8,\n        \"samples\": [\n          2.53,\n          4.0,\n          5000.0\n        ],\n        \"semantic_type\": \"\",\n        \"description\": \"\"\n      }\n    },\n    {\n      \"column\": \"Quejas recientes\",\n      \"properties\": {\n        \"dtype\": \"number\",\n        \"std\": 1767.4216649186806,\n        \"min\": 0.0,\n        \"max\": 5000.0,\n        \"num_unique_values\": 6,\n        \"samples\": [\n          5000.0,\n          1.016,\n          0.8235773527308651\n        ],\n        \"semantic_type\": \"\",\n        \"description\": \"\"\n      }\n    },\n    {\n      \"column\": \"Cambio en saldo de cuenta\",\n      \"properties\": {\n        \"dtype\": \"number\",\n        \"std\": 3544.745080342147,\n        \"min\": -4999.23,\n        \"max\": 5000.0,\n        \"num_unique_values\": 8,\n        \"samples\": [\n          46.27569600000001,\n          2566.35,\n          5000.0\n        ],\n        \"semantic_type\": \"\",\n        \"description\": \"\"\n      }\n    },\n    {\n      \"column\": \"Puntuaci\\u00f3n de satisfacci\\u00f3n del cliente\",\n      \"properties\": {\n        \"dtype\": \"number\",\n        \"std\": 1766.7844022821541,\n        \"min\": 1.0,\n        \"max\": 5000.0,\n        \"num_unique_values\": 8,\n        \"samples\": [\n          3.0366,\n          4.0,\n          5000.0\n        ],\n        \"semantic_type\": \"\",\n        \"description\": \"\"\n      }\n    },\n    {\n      \"column\": \"Etiqueta de abandono\",\n      \"properties\": {\n        \"dtype\": \"number\",\n        \"std\": 1767.6264999711882,\n        \"min\": 0.0,\n        \"max\": 5000.0,\n        \"num_unique_values\": 5,\n        \"samples\": [\n          0.3166,\n          0.46519643328846294,\n          0.0\n        ],\n        \"semantic_type\": \"\",\n        \"description\": \"\"\n      }\n    },\n    {\n      \"column\": \"Periodo de tiempo de abandono (meses)\",\n      \"properties\": {\n        \"dtype\": \"number\",\n        \"std\": 1766.7217073311872,\n        \"min\": 0.0,\n        \"max\": 5000.0,\n        \"num_unique_values\": 6,\n        \"samples\": [\n          5000.0,\n          2.1244,\n          3.657813631134392\n        ],\n        \"semantic_type\": \"\",\n        \"description\": \"\"\n      }\n    },\n    {\n      \"column\": \"Fecha_corte\",\n      \"properties\": {\n        \"dtype\": \"date\",\n        \"min\": \"1970-01-01 00:00:00.000005\",\n        \"max\": \"2025-03-31 00:00:00\",\n        \"num_unique_values\": 2,\n        \"samples\": [\n          \"2025-03-31 00:00:00\",\n          \"5000\"\n        ],\n        \"semantic_type\": \"\",\n        \"description\": \"\"\n      }\n    },\n    {\n      \"column\": \"Antiguedad en a\\u00f1os\",\n      \"properties\": {\n        \"dtype\": \"number\",\n        \"std\": 1766.8972704797393,\n        \"min\": 0.0027397260273972603,\n        \"max\": 5000.0,\n        \"num_unique_values\": 8,\n        \"samples\": [\n          2.625733150684932,\n          3.9376712328767125\n        ],\n        \"semantic_type\": \"\",\n        \"description\": \"\"\n      }\n    },\n    {\n      \"column\": \"Frecuencia de transacciones por a\\u00f1o\",\n      \"properties\": {\n        \"dtype\": \"number\",\n        \"std\": 2797.479269946494,\n        \"min\": 0.19089958158995818,\n        \"max\": 6935.0,\n        \"num_unique_values\": 8,\n        \"samples\": [\n          17.305446259722633,\n          7.978142076502731\n        ],\n        \"semantic_type\": \"\",\n        \"description\": \"\"\n      }\n    },\n    {\n      \"column\": \"Recencia\",\n      \"properties\": {\n        \"dtype\": \"number\",\n        \"std\": 1752.9738913810443,\n        \"min\": 1.0,\n        \"max\": 5000.0,\n        \"num_unique_values\": 8,\n        \"samples\": [\n          45.4874,\n          67.0\n        ],\n        \"semantic_type\": \"\",\n        \"description\": \"\"\n      }\n    }\n  ]\n}"
            }
          },
          "metadata": {},
          "execution_count": 114
        }
      ]
    },
    {
      "cell_type": "markdown",
      "source": [
        "#Hipotesis\n",
        "\n",
        "* **Hipotesis nula:** Los datos disponibles no son suficienes para detectar caracteristicas compartidas entre los clientes que se fugan.\n",
        "\n",
        "* **Hipotesis:** A partir de datos respecto a la antiguedad del cliente, comportamienito de compra y satisfacción del cliente se puede caracterizar a el/los grupos que se fugan."
      ],
      "metadata": {
        "id": "BmJYnvtPuFbW"
      }
    },
    {
      "cell_type": "code",
      "source": [
        "# Selecciona solo columnas float\n",
        "#columnas_float = df.select_dtypes(include=['float']).columns\n",
        "\n",
        "# Convierte esas columnas a int\n",
        "#df[columnas_float] = df[columnas_float].astype(int)"
      ],
      "metadata": {
        "id": "8AvxnmXyZXF-"
      },
      "execution_count": 117,
      "outputs": []
    },
    {
      "cell_type": "markdown",
      "source": [
        "# Analisis de variables"
      ],
      "metadata": {
        "id": "OvXesb8qvobA"
      }
    },
    {
      "cell_type": "code",
      "source": [],
      "metadata": {
        "id": "O8IBtWnvx0GW"
      },
      "execution_count": null,
      "outputs": []
    },
    {
      "cell_type": "markdown",
      "source": [
        "**Clientes fugados**\n",
        "\n",
        "La variable 'Etiqueta de abandono' indica:\n",
        "\n",
        "0 = Cliente Activo\n",
        "\n",
        "\n",
        "1 = Cliente fugado\n"
      ],
      "metadata": {
        "id": "CZVlnm6PvyHb"
      }
    },
    {
      "cell_type": "code",
      "source": [
        "\n",
        "# Contar los 'Cliente_ID' por cada 'Etiqueta de abandono'\n",
        "conteo = df.groupby('Etiqueta de abandono')['Cliente_ID'].agg('count').reset_index()\n",
        "\n",
        "# Calcular el total de 'Cliente_ID' en el DataFrame\n",
        "total_clientes = df['Cliente_ID'].nunique()\n",
        "\n",
        "# Agregar la columna de porcentaje\n",
        "conteo['Porcentaje'] = (conteo['Cliente_ID'] / total_clientes) * 100\n",
        "\n",
        "# Mostrar el resultado\n",
        "print('Proporción de clientes según etiqueta de abandono:')\n",
        "print(conteo)\n"
      ],
      "metadata": {
        "colab": {
          "base_uri": "https://localhost:8080/"
        },
        "id": "cAMgwmjpT03l",
        "outputId": "0121b0b6-b5c1-4107-fd0a-2a9a7bab77b5"
      },
      "execution_count": 181,
      "outputs": [
        {
          "output_type": "stream",
          "name": "stdout",
          "text": [
            "Proporción de clientes según etiqueta de abandono:\n",
            "   Etiqueta de abandono  Cliente_ID  Porcentaje\n",
            "0                     0        3417       68.34\n",
            "1                     1        1583       31.66\n"
          ]
        }
      ]
    },
    {
      "cell_type": "markdown",
      "source": [
        "El 31% de la cartera de clientes del dataset no se encuentra activo."
      ],
      "metadata": {
        "id": "MPbmoy1tydmw"
      }
    },
    {
      "cell_type": "markdown",
      "source": [],
      "metadata": {
        "id": "LkjDorR6yu_y"
      }
    },
    {
      "cell_type": "code",
      "source": [
        "# Contar los 'Cliente_ID' por cada '\n",
        "conteo = df.groupby(['Etiqueta de abandono','Tubo prestamo'])['Cliente_ID'].agg('count').reset_index()\n",
        "\n",
        "# Calcular el total de 'Cliente_ID' en el DataFrame\n",
        "total_clientes = df['Cliente_ID'].nunique()\n",
        "\n",
        "# Agregar la columna de porcentaje\n",
        "conteo['Porcentaje'] = (conteo['Cliente_ID'] / total_clientes) * 100\n",
        "\n",
        "# Mostrar el resultado\n",
        "print(conteo)"
      ],
      "metadata": {
        "id": "UQgvNV8uT0zN"
      },
      "execution_count": null,
      "outputs": []
    },
    {
      "cell_type": "code",
      "source": [
        "# Contar los 'Cliente_ID' por cada 'Etiqueta de abandono'\n",
        "conteo = df.groupby(['Etiqueta de abandono','Tubo prestamo'])['Cliente_ID'].agg('count').reset_index()\n",
        "\n",
        "# Calcular el total de 'Cliente_ID' en el DataFrame\n",
        "total_clientes = df['Cliente_ID'].nunique()\n",
        "\n",
        "# Agregar la columna de porcentaje\n",
        "conteo['Porcentaje'] = (conteo['Cliente_ID'] / total_clientes) * 100\n",
        "\n",
        "# Mostrar el resultado\n",
        "print(conteo)"
      ],
      "metadata": {
        "id": "ygEJf1jhT0mB"
      },
      "execution_count": null,
      "outputs": []
    },
    {
      "cell_type": "code",
      "source": [
        "sns.set_theme(style=\"whitegrid\") # Establece un tema visual agradable para los gráficos de Seaborn"
      ],
      "metadata": {
        "id": "g191FF3XdAh8"
      },
      "execution_count": null,
      "outputs": []
    },
    {
      "cell_type": "code",
      "source": [
        "# --- Histograma de Calificaciones ---\n",
        "plt.figure(figsize=(8, 5)) # Define el tamaño de la figura (opcional)\n",
        "sns.histplot(data=df, x='Antiguedad en años',bins=50, kde=True) # kde=True añade una curva de densidad estimada\n",
        "plt.title('Antiguedad en años')\n",
        "plt.xlabel('Antiguedad en años')\n",
        "plt.ylabel('Frecuencia')\n",
        "plt.show() # Muestra el gráfico\n",
        "\n",
        "# Observaciones del histograma:\n",
        "# - Parece haber una concentración de calificaciones alrededor de 85-90.\n",
        "# - La distribución no es perfectamente simétrica, quizás ligeramente sesgada a la izquierda (cola más larga hacia valores bajos)."
      ],
      "metadata": {
        "colab": {
          "base_uri": "https://localhost:8080/",
          "height": 487
        },
        "id": "8Sj8ao53Xexz",
        "outputId": "5c260c10-d7cb-4b9a-dfde-46b39d5b0508"
      },
      "execution_count": 136,
      "outputs": [
        {
          "output_type": "display_data",
          "data": {
            "text/plain": [
              "<Figure size 800x500 with 1 Axes>"
            ],
            "image/png": "[encoded data removed]"
          },
          "metadata": {}
        }
      ]
    },
    {
      "cell_type": "code",
      "source": [
        "# --- Box Plot de Calificaciones ---\n",
        "plt.figure(figsize=(6, 4))\n",
        "sns.boxplot(data=df, y='Monto de transaccion') # Usamos 'y' para un boxplot vertical\n",
        "plt.title('Monto de transaccion')\n",
        "plt.ylabel('Monto de transaccion')\n",
        "plt.show()"
      ],
      "metadata": {
        "colab": {
          "base_uri": "https://localhost:8080/",
          "height": 367
        },
        "id": "2yJrNOQJYbEg",
        "outputId": "1e2a8c3c-c464-4ba9-8332-847ae5447462"
      },
      "execution_count": null,
      "outputs": [
        {
          "output_type": "display_data",
          "data": {
            "text/plain": [
              "<Figure size 600x400 with 1 Axes>"
            ],
            "image/png": "[encoded data removed]"
          },
          "metadata": {}
        }
      ]
    },
    {
      "cell_type": "code",
      "source": [
        "# Calcula la matriz de correlaciones\n",
        "# Selecciona solo columnas numéricas\n",
        "df_numerico = df.select_dtypes(include=['number'])\n",
        "\n",
        "correlacion = df_numerico.corr()\n",
        "plt.figure(figsize=(12, 10))  # Ajusta el tamaño del gráfico\n",
        "sns.heatmap(correlacion, annot=True, cmap='coolwarm', fmt=\".2f\")\n",
        "plt.title('Mapa de Calor de Correlación')\n",
        "plt.show()"
      ],
      "metadata": {
        "colab": {
          "base_uri": "https://localhost:8080/",
          "height": 1000
        },
        "id": "jWjbWQzDcj3S",
        "outputId": "22f0504c-c31d-4057-e7dc-1316ab470072"
      },
      "execution_count": null,
      "outputs": [
        {
          "output_type": "stream",
          "name": "stderr",
          "text": [
            "/usr/local/lib/python3.11/dist-packages/seaborn/utils.py:61: UserWarning: Glyph 9 (\t) missing from font(s) DejaVu Sans.\n",
            "  fig.canvas.draw()\n",
            "/usr/local/lib/python3.11/dist-packages/IPython/core/pylabtools.py:151: UserWarning: Glyph 9 (\t) missing from font(s) DejaVu Sans.\n",
            "  fig.canvas.print_figure(bytes_io, **kw)\n"
          ]
        },
        {
          "output_type": "display_data",
          "data": {
            "text/plain": [
              "<Figure size 1200x1000 with 2 Axes>"
            ],
            "image/png": "[encoded data removed]"
          },
          "metadata": {}
        }
      ]
    }
  ]
}